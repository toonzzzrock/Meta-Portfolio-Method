{
 "cells": [
  {
   "cell_type": "code",
   "execution_count": 4,
   "metadata": {},
   "outputs": [],
   "source": [
    "import pandas as pd\n",
    "import yfinance as yf\n",
    "import numpy as np\n",
    "import warnings\n",
    "import random\n",
    "from pathlib import Path\n",
    "import pickle as pkl\n",
    "from main_utility_functions import ticker_gen\n",
    "\n",
    "warnings.filterwarnings(\"ignore\")"
   ]
  },
  {
   "cell_type": "code",
   "execution_count": 10,
   "metadata": {},
   "outputs": [
    {
     "name": "stderr",
     "output_type": "stream",
     "text": [
      "[*********************100%%**********************]  18 of 18 completed\n"
     ]
    }
   ],
   "source": [
    "'''PART 1:DOWNLOADING DATA'''\n",
    "\n",
    "with open('univs.pkl','rb') as f:  #rb is read binary code\n",
    "     univs= pkl.load(f)\n",
    "\n",
    "# Date range\n",
    "start = '2003-11-01'\n",
    "end = '2022-11-01'\n",
    "\n",
    "# Tickers of assets, note that univs contains 10 universes!\n",
    "assets = list(set(sum(univs, []))) #change this number to switch universes\n",
    "\n",
    "#THIS STEP IS IMPT!\n",
    "#yfinance will download tickers in sorted order,regardless of input order\n",
    "#this step sorts the column names, if not the labelling will be wrong\n",
    "assets.sort()\n",
    "# Downloading data\n",
    "prices = yf.download(assets, start=start, end=end)\n",
    "prices = prices.dropna()\n",
    "#keep adjusted close prices only\n",
    "assets_prices=prices.loc[:, ('Adj Close', slice(None))]\n",
    "assets_prices.columns = assets"
   ]
  },
  {
   "cell_type": "code",
   "execution_count": 12,
   "metadata": {},
   "outputs": [],
   "source": [
    "# Calculate assets returns\n",
    "returns = assets_prices.pct_change()#return on day 2 is day1-day2 comparison\n",
    "\n",
    "# Selecting Dates for Rebalancing\n",
    "\n",
    "#index contains datetime indexes of first day of each month\n",
    "index = returns.groupby([returns.index.year, returns.index.month]).head(1).index\n",
    "\n",
    "#index_ is the integer version of index, in addition to:\n",
    "#only after cov_period will weights be calculated, so index_ also accounts for this\n",
    "cov_period=252 #n.o. of days in one trading year\n",
    "index_ = [returns.index.get_loc(x) for x in index if returns.index.get_loc(x) >cov_period]\n",
    "\n",
    "path = 'data_all.pkl'\n",
    "\n",
    "if Path(path).exists():\n",
    "    raise Exception('data.pkl already exists. Please delete it before running this script again.')\n",
    "#save impt variables as a list, written in binary code\n",
    "with open(path,'wb') as f:\n",
    "    pkl.dump([cov_period, index_, returns],f)\n"
   ]
  }
 ],
 "metadata": {
  "kernelspec": {
   "display_name": ".venv",
   "language": "python",
   "name": "python3"
  },
  "language_info": {
   "codemirror_mode": {
    "name": "ipython",
    "version": 3
   },
   "file_extension": ".py",
   "mimetype": "text/x-python",
   "name": "python",
   "nbconvert_exporter": "python",
   "pygments_lexer": "ipython3",
   "version": "3.10.11"
  }
 },
 "nbformat": 4,
 "nbformat_minor": 2
}
